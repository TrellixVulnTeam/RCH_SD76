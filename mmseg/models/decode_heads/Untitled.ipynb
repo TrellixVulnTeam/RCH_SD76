{
 "cells": [
  {
   "cell_type": "code",
   "execution_count": 1,
   "metadata": {},
   "outputs": [],
   "source": [
    "import torch\n",
    "import matplotlib.pyplot as plt\n",
    "import numpy as np"
   ]
  },
  {
   "cell_type": "code",
   "execution_count": 76,
   "metadata": {},
   "outputs": [
    {
     "name": "stdout",
     "output_type": "stream",
     "text": [
      "tensor([[[[1., 0., 0.],\n",
      "          [0., 0., 0.],\n",
      "          [0., 1., 0.],\n",
      "          [0., 0., 0.]],\n",
      "\n",
      "         [[0., 0., 0.],\n",
      "          [0., 0., 0.],\n",
      "          [0., 0., 0.],\n",
      "          [0., 0., 0.]],\n",
      "\n",
      "         [[0., 1., 0.],\n",
      "          [0., 0., 0.],\n",
      "          [0., 0., 0.],\n",
      "          [0., 0., 0.]],\n",
      "\n",
      "         [[0., 0., 1.],\n",
      "          [0., 0., 0.],\n",
      "          [0., 0., 0.],\n",
      "          [0., 0., 0.]]]])\n",
      "tensor([[1., 1., 1.]])\n",
      "tensor([[0.9000, 0.9000, 0.9000]])\n"
     ]
    }
   ],
   "source": [
    "pred = torch.randn(1,3,4,4)\n",
    "pred = logit_2_pred(pred)\n",
    "lbl = np.random.randint(0, 3,size = (1,4,4))\n",
    "lbl = torch.Tensor(lbl).long()\n",
    "pred_one = onehot(pred)\n",
    "lbl_one = onehot(lbl)\n",
    "tp, fn = get_tp_fn(lbl_one,pred_one)\n",
    "f = torch.randn(1,10,4,4)\n"
   ]
  },
  {
   "cell_type": "code",
   "execution_count": 113,
   "metadata": {},
   "outputs": [
    {
     "name": "stdout",
     "output_type": "stream",
     "text": [
      "torch.Size([1, 1, 4, 4])\n",
      "tensor([[[[-0.4948,  0.1095],\n",
      "          [ 0.0924, -0.5551]]]])\n",
      "tensor([[[[-0.4948, -0.3437, -0.0416,  0.1095],\n",
      "          [-0.3480, -0.2752, -0.1295, -0.0566],\n",
      "          [-0.0544, -0.1381, -0.3053, -0.3889],\n",
      "          [ 0.0924, -0.0695, -0.3932, -0.5551]]]])\n"
     ]
    }
   ],
   "source": [
    "m = torch.nn.Upsample(scale_factor=8, mode='bilinear', align_corners=False)\n",
    "x = torch.randn(1,1,2,2)\n",
    "y = m(x)\n",
    "print(y.size())\n",
    "print(x)\n",
    "print(y)"
   ]
  },
  {
   "cell_type": "code",
   "execution_count": 140,
   "metadata": {},
   "outputs": [
    {
     "name": "stdout",
     "output_type": "stream",
     "text": [
      "tensor([[1., 0., 2., 3.],\n",
      "        [2., 2., 1., 3.],\n",
      "        [1., 0., 3., 3.],\n",
      "        [1., 2., 1., 1.]])\n",
      "tensor([[1., 2., 2., 0.],\n",
      "        [0., 2., 1., 0.],\n",
      "        [0., 2., 2., 1.],\n",
      "        [0., 2., 2., 2.]])\n"
     ]
    },
    {
     "data": {
      "text/plain": [
       "tensor([[[0., 1., 0.],\n",
       "         [0., 0., 0.],\n",
       "         [0., 0., 1.],\n",
       "         [0., 0., 0.]],\n",
       "\n",
       "        [[0., 0., 0.],\n",
       "         [0., 0., 1.],\n",
       "         [0., 1., 0.],\n",
       "         [0., 0., 0.]],\n",
       "\n",
       "        [[0., 0., 0.],\n",
       "         [0., 0., 0.],\n",
       "         [0., 0., 0.],\n",
       "         [0., 0., 0.]],\n",
       "\n",
       "        [[0., 0., 0.],\n",
       "         [0., 0., 1.],\n",
       "         [0., 0., 0.],\n",
       "         [0., 0., 0.]]])"
      ]
     },
     "execution_count": 140,
     "metadata": {},
     "output_type": "execute_result"
    }
   ],
   "source": [
    "lbl = np.random.randint(0, 4,size = (2,4,4))\n",
    "lbl = torch.Tensor(lbl).float()\n",
    "pred = np.random.randint(0, 3,size = (1,4,4))\n",
    "pred = torch.Tensor(pred).float()\n",
    "def onehot(label):\n",
    "    lbl = label.clone()\n",
    "    N = 3 + 1\n",
    "    lbl[lbl==3] = N - 1\n",
    "    size = list(lbl.size())\n",
    "    lbl = lbl.view(-1)\n",
    "    ones = torch.sparse.torch.eye(N)\n",
    "    ones = ones.index_select(0, lbl.long())\n",
    "    size.append(N)\n",
    "    return ones.view(*size)[...,:(N-1)].float()\n",
    "def get_tp(lbl_one, pred_one):\n",
    "    scale = 0.05*0\n",
    "    tp = lbl_one.clone()\n",
    "    tp[(lbl_one + pred_one)!=2] = 0\n",
    "    fn = lbl_one - tp\n",
    "    return fn*scale + tp*(1-scale)\n",
    "print(lbl[0])\n",
    "print(pred[0])\n",
    "tp = get_tp(onehot(lbl),onehot(pred))\n",
    "tp[0]"
   ]
  },
  {
   "cell_type": "code",
   "execution_count": 143,
   "metadata": {},
   "outputs": [
    {
     "name": "stdout",
     "output_type": "stream",
     "text": [
      "tensor([[0., 4., 5.]])\n"
     ]
    },
    {
     "data": {
      "text/plain": [
       "tensor([[1.0000, 0.9000, 0.9000]])"
      ]
     },
     "execution_count": 143,
     "metadata": {},
     "output_type": "execute_result"
    }
   ],
   "source": [
    "tp_f = tp.view(2*4*4,3)\n",
    "tp_sum = tp_f.sum(0,keepdim=True)\n",
    "print(tp_sum)\n",
    "tp_sum[tp_sum>1e-6] = 1\n",
    "mom=0.9\n",
    "mom = mom*tp_sum + 1 - tp_sum\n",
    "mom"
   ]
  },
  {
   "cell_type": "code",
   "execution_count": 2,
   "metadata": {},
   "outputs": [
    {
     "data": {
      "text/plain": [
       "12.222222222222223"
      ]
     },
     "execution_count": 2,
     "metadata": {},
     "output_type": "execute_result"
    }
   ],
   "source": [
    "55*40000/50/60/60"
   ]
  },
  {
   "cell_type": "code",
   "execution_count": null,
   "metadata": {},
   "outputs": [],
   "source": []
  }
 ],
 "metadata": {
  "kernelspec": {
   "display_name": "Python 3",
   "language": "python",
   "name": "python3"
  },
  "language_info": {
   "codemirror_mode": {
    "name": "ipython",
    "version": 3
   },
   "file_extension": ".py",
   "mimetype": "text/x-python",
   "name": "python",
   "nbconvert_exporter": "python",
   "pygments_lexer": "ipython3",
   "version": "3.6.10"
  }
 },
 "nbformat": 4,
 "nbformat_minor": 2
}
