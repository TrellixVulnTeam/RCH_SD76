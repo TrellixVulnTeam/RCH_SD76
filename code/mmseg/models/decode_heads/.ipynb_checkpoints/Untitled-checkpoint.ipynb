{
 "cells": [
  {
   "cell_type": "code",
   "execution_count": 20,
   "metadata": {},
   "outputs": [],
   "source": [
    "import torch\n",
    "import matplotlib.pyplot as plt\n",
    "import numpy as np"
   ]
  },
  {
   "cell_type": "code",
   "execution_count": 29,
   "metadata": {},
   "outputs": [],
   "source": [
    "def logit_2_pred(logit):\n",
    "    #logit: B C H W\n",
    "    #output: B H W\n",
    "    return logit.max(1)[1].detach()\n",
    "def onehot(label):\n",
    "    num_classes = 3\n",
    "    lbl = label.clone()\n",
    "    N = num_classes + 1\n",
    "    lbl[lbl==(N-1)] = N - 1\n",
    "    size = list(lbl.size())\n",
    "    lbl = lbl.view(-1)\n",
    "    ones = torch.sparse.torch.eye(N)\n",
    "    ones = ones.index_select(0, lbl)\n",
    "    size.append(N)\n",
    "    return ones.view(*size)[...,:(N-1)]\n",
    "def get_tp_fn(lbl_one, pred_one):\n",
    "    scale = 0.05*0\n",
    "    tp = lbl_one.clone()\n",
    "    tp[(lbl_one + pred_one)!=2] = 0\n",
    "    fn = lbl_one - tp\n",
    "    return fn*scale + tp*(1-scale), fn*(1-scale) + tp*scale"
   ]
  },
  {
   "cell_type": "code",
   "execution_count": 32,
   "metadata": {},
   "outputs": [
    {
     "name": "stdout",
     "output_type": "stream",
     "text": [
      "tensor([[[0, 2, 0, 0],\n",
      "         [1, 0, 1, 2],\n",
      "         [2, 0, 2, 0],\n",
      "         [1, 1, 2, 1]]])\n",
      "tensor([[[0, 2, 0, 1],\n",
      "         [2, 0, 1, 1],\n",
      "         [2, 2, 0, 1],\n",
      "         [2, 0, 1, 0]]])\n"
     ]
    }
   ],
   "source": [
    "pred = torch.randn(1,3,4,4)\n",
    "pred = logit_2_pred(pred)\n",
    "lbl = np.random.randint(0, 3,size = (1,4,4))\n",
    "lbl = torch.Tensor(lbl).long()\n",
    "print(pred)\n",
    "print(lbl)\n",
    "pred_one = onehot(pred)\n",
    "lbl_one = onehot(lbl)\n",
    "#print(pred_one)\n",
    "#print(lbl_one)\n",
    "tp = get_tp(lbl_one,pred_one)"
   ]
  },
  {
   "cell_type": "code",
   "execution_count": 37,
   "metadata": {},
   "outputs": [
    {
     "name": "stdout",
     "output_type": "stream",
     "text": [
      "tensor([[1., 0., 1., 0.],\n",
      "        [0., 1., 0., 0.],\n",
      "        [0., 0., 0., 0.],\n",
      "        [0., 0., 0., 0.]])\n",
      "tensor([[1., 0., 1., 0.],\n",
      "        [0., 1., 0., 0.],\n",
      "        [0., 0., 1., 0.],\n",
      "        [0., 1., 0., 1.]])\n",
      "tensor([[1., 0., 1., 1.],\n",
      "        [0., 1., 0., 0.],\n",
      "        [0., 1., 0., 1.],\n",
      "        [0., 0., 0., 0.]])\n"
     ]
    }
   ],
   "source": [
    "i = 0\n",
    "print(tp[0,:,:,i])\n",
    "print(lbl_one[0,:,:,i])\n",
    "print(pred_one[0,:,:,i])"
   ]
  },
  {
   "cell_type": "code",
   "execution_count": null,
   "metadata": {},
   "outputs": [],
   "source": []
  }
 ],
 "metadata": {
  "kernelspec": {
   "display_name": "Python 3",
   "language": "python",
   "name": "python3"
  },
  "language_info": {
   "codemirror_mode": {
    "name": "ipython",
    "version": 3
   },
   "file_extension": ".py",
   "mimetype": "text/x-python",
   "name": "python",
   "nbconvert_exporter": "python",
   "pygments_lexer": "ipython3",
   "version": "3.6.10"
  }
 },
 "nbformat": 4,
 "nbformat_minor": 2
}
